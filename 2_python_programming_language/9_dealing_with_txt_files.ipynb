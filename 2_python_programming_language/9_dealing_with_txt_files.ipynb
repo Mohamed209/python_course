{
 "cells": [
  {
   "cell_type": "code",
   "execution_count": 7,
   "metadata": {},
   "outputs": [
    {
     "name": "stdout",
     "output_type": "stream",
     "text": [
      "<class 'list'>\n",
      "['hello world\\n', '12400']\n"
     ]
    }
   ],
   "source": [
    "# read txt file \n",
    "with open('files/file1.txt',mode='r') as txtfile: # (with) manages file streams , mode =r >>> read mode\n",
    "    lines=txtfile.readlines() # read txt lines >> return list\n",
    "    print(type(lines))\n",
    "    print(lines)"
   ]
  },
  {
   "cell_type": "code",
   "execution_count": 17,
   "metadata": {},
   "outputs": [],
   "source": [
    "# write txt file\n",
    "with open('files/newfile.txt',mode='w') as txtfile: # mode =w >>> write mode and if file not found new file will be created\n",
    "    nums='\\n'.join(str(i) for i in range(20))\n",
    "    txtfile.writelines(nums)\n",
    "    \n",
    "# note mode >> w if file found >>>> overrite"
   ]
  },
  {
   "cell_type": "code",
   "execution_count": 18,
   "metadata": {},
   "outputs": [],
   "source": [
    "# append data to existing file\n",
    "newdata=['Thy glass will show thee how thy beauties wear','Thy dial how thy precious minutes waste',\n",
    "         \"These vacant leaves thy mind's imprint will bear\"]\n",
    "with open('files/file3.txt',mode='a') as f3: # mode = a >>>> append\n",
    "    f3.writelines('\\n'.join(i for i in newdata))"
   ]
  },
  {
   "cell_type": "code",
   "execution_count": 26,
   "metadata": {},
   "outputs": [
    {
     "data": {
      "text/plain": [
       "['.ipynb_checkpoints',\n",
       " 'all_big_file.txt',\n",
       " 'file1.txt',\n",
       " 'file2.txt',\n",
       " 'file3.txt',\n",
       " 'newfile.txt']"
      ]
     },
     "execution_count": 26,
     "metadata": {},
     "output_type": "execute_result"
    }
   ],
   "source": [
    "import os # os module\n",
    "txtfiles=sorted(os.listdir('files/')) # list all files in files directory and sort them\n",
    "txtfiles"
   ]
  },
  {
   "cell_type": "code",
   "execution_count": 27,
   "metadata": {},
   "outputs": [
    {
     "name": "stdout",
     "output_type": "stream",
     "text": [
      "loaded lines in all_big_file.txt\n",
      "loaded lines in file1.txt\n",
      "loaded lines in file2.txt\n",
      "loaded lines in file3.txt\n",
      "loaded lines in newfile.txt\n"
     ]
    }
   ],
   "source": [
    "# assume we want to read all files in the directory and compine them in one file\n",
    "big=open('files/all_big_file.txt',mode='w') # create new empty file\n",
    "big.close()\n",
    "# loop over txt files in 'files/'\n",
    "for f in txtfiles:\n",
    "    # read txt file\n",
    "    ext=f.split('.')[1]\n",
    "    if ext=='txt':\n",
    "        with open('files/'+f) as txt: # default mode r >>> read\n",
    "            lines=txt.readlines()\n",
    "            print(\"loaded lines in \"+f)\n",
    "            # open big file\n",
    "            with open('files/all_big_file.txt',mode='a') as big:\n",
    "            # append mode\n",
    "                big.writelines(lines)\n",
    "                big.write('\\n')\n",
    "    else:\n",
    "        pass # pass non txt files"
   ]
  }
 ],
 "metadata": {
  "kernelspec": {
   "display_name": "Python 3.6.8 64-bit ('venv': virtualenv)",
   "language": "python",
   "name": "python36864bitvenvvirtualenv1b066e46c9894aa88295228594098c90"
  },
  "language_info": {
   "codemirror_mode": {
    "name": "ipython",
    "version": 3
   },
   "file_extension": ".py",
   "mimetype": "text/x-python",
   "name": "python",
   "nbconvert_exporter": "python",
   "pygments_lexer": "ipython3",
   "version": "3.6.8"
  }
 },
 "nbformat": 4,
 "nbformat_minor": 2
}
