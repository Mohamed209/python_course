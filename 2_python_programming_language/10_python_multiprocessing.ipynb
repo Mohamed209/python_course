{
 "cells": [
  {
   "cell_type": "markdown",
   "metadata": {},
   "source": [
    "### Process vs Thread"
   ]
  },
  {
   "cell_type": "markdown",
   "metadata": {},
   "source": [
    "`A process is an instance of program (e.g. Jupyter notebook, Python interpreter). Processes spawn threads (sub-processes) to handle subtasks like reading keystrokes, loading HTML pages, saving files. Threads live inside processes and share the same memory space.`"
   ]
  },
  {
   "cell_type": "markdown",
   "metadata": {},
   "source": [
    "`Example: Microsoft Word\n",
    "When you open Word, you create a process. When you start typing, the process spawns threads: one to read keystrokes, another to display text, one to autosave your file, and yet another to highlight spelling mistakes. By spawning multiple threads, Microsoft takes advantage of idle CPU time (waiting for keystrokes or files to load) and makes you more productive.`"
   ]
  },
  {
   "cell_type": "markdown",
   "metadata": {},
   "source": [
    "### CPU vs Core"
   ]
  },
  {
   "cell_type": "markdown",
   "metadata": {},
   "source": [
    "`The CPU, or processor, manages the fundamental computational work of the computer. CPUs have one or more cores, allowing the CPU to execute code simultaneously.\n",
    "With a single core, there is no speedup for CPU-intensive tasks (e.g. loops, arithmetic)`"
   ]
  },
  {
   "cell_type": "markdown",
   "metadata": {},
   "source": [
    "### Parallel VS Serial Computing"
   ]
  },
  {
   "cell_type": "markdown",
   "metadata": {},
   "source": [
    "![img](../images/Diagram-drawing-of-serial-and-parallel-processing-with-n-1-tasks-and-k-parallel.png)"
   ]
  },
  {
   "cell_type": "markdown",
   "metadata": {},
   "source": [
    "### Python Multiprocessing.Pool module"
   ]
  },
  {
   "cell_type": "code",
   "execution_count": 4,
   "metadata": {},
   "outputs": [
    {
     "name": "stdout",
     "output_type": "stream",
     "text": [
      "Worker process id for 1: 7944\n",
      "Worker process id for 2: 7944\n",
      "Worker process id for 3: 7944\n",
      "Worker process id for 4: 7944\n",
      "Worker process id for 5: 7944\n",
      "[1, 4, 9, 16, 25]\n"
     ]
    }
   ],
   "source": [
    "# Python program to find \n",
    "# squares of numbers in a given list \n",
    "def square(n):\n",
    "    print(\"Worker process id for {0}: {1}\".format(n, os.getpid()))\n",
    "    return (n*n) \n",
    "\n",
    "if __name__ == \"__main__\": \n",
    "    # input list \n",
    "    mylist = [1,2,3,4,5] \n",
    "    # empty list to store result \n",
    "    result = [] \n",
    "    for num in mylist: \n",
    "        result.append(square(num)) \n",
    "    print(result) "
   ]
  },
  {
   "cell_type": "markdown",
   "metadata": {},
   "source": [
    "![img](../images/synchronization-python-2.png)"
   ]
  },
  {
   "cell_type": "markdown",
   "metadata": {},
   "source": [
    "`Only one of the cores is used for program execution and it’s quite possible that other cores remain idle`"
   ]
  },
  {
   "cell_type": "markdown",
   "metadata": {},
   "source": [
    "`In order to utilize all the cores, multiprocessing module provides a Pool class. The Pool class represents a pool of worker processes. It has methods which allows tasks to be offloaded to the worker processes in a few different ways. Consider the diagram below`\n",
    "![img](../images/synchronization-python-3.png)"
   ]
  },
  {
   "cell_type": "code",
   "execution_count": 6,
   "metadata": {},
   "outputs": [
    {
     "name": "stdout",
     "output_type": "stream",
     "text": [
      "Worker process id for 2: 11702\n",
      "Worker process id for 1: 11701\n",
      "Worker process id for 5: 11701\n",
      "Worker process id for 4: 11704\n",
      "Worker process id for 3: 11703\n",
      "[1, 4, 9, 16, 25]\n"
     ]
    }
   ],
   "source": [
    "# Python program to understand  \n",
    "# the concept of pool \n",
    "from multiprocessing import Pool \n",
    "import os \n",
    "  \n",
    "def square(n): \n",
    "    print(\"Worker process id for {0}: {1}\".format(n, os.getpid())) \n",
    "    return (n*n) \n",
    "  \n",
    "if __name__ == \"__main__\": \n",
    "    # input list \n",
    "    mylist = [1,2,3,4,5] \n",
    "  \n",
    "    # creating a pool object\n",
    "    with Pool() as p: # utilize all cpu cores\n",
    "    # map list to target function \n",
    "        result = p.map(square, mylist) \n",
    "    # using with to automatically close pool after processes finishes excution \n",
    "    print(result)"
   ]
  },
  {
   "cell_type": "markdown",
   "metadata": {},
   "source": [
    "`there is a limitation with map function as it accepts only functions with one parameter , to map multi parameter function into its arguments use function starmap()`"
   ]
  },
  {
   "cell_type": "code",
   "execution_count": 13,
   "metadata": {},
   "outputs": [
    {
     "name": "stdout",
     "output_type": "stream",
     "text": [
      "Worker process id for (100, 0, -100): 11945\n",
      "Worker process id for (1, 2, 3): 11943\n",
      "Worker process id for (10, 20, 30): 11944\n",
      "[6, 60, 0]\n"
     ]
    }
   ],
   "source": [
    "def add(x,y,z): \n",
    "    print(\"Worker process id for {0}: {1}\".format((x,y,z), os.getpid())) \n",
    "    return (x+y+z) \n",
    "  \n",
    "if __name__ == \"__main__\":   \n",
    "    # creating a pool object\n",
    "    with Pool() as p: # utilize all cpu cores\n",
    "    # map list to target function \n",
    "        result = p.starmap(add, [(1,2,3),(10,20,30),(100,0,-100)]) \n",
    "    # using with to automatically close pool after processes finishes excution \n",
    "    print(result)"
   ]
  }
 ],
 "metadata": {
  "kernelspec": {
   "display_name": "Python 3",
   "language": "python",
   "name": "python3"
  },
  "language_info": {
   "codemirror_mode": {
    "name": "ipython",
    "version": 3
   },
   "file_extension": ".py",
   "mimetype": "text/x-python",
   "name": "python",
   "nbconvert_exporter": "python",
   "pygments_lexer": "ipython3",
   "version": "3.6.9"
  }
 },
 "nbformat": 4,
 "nbformat_minor": 2
}
