{
 "cells": [
  {
   "cell_type": "markdown",
   "metadata": {},
   "source": [
    "Object Oriented Programming - modeling some system or process by using objects or classes."
   ]
  },
  {
   "cell_type": "markdown",
   "metadata": {},
   "source": [
    "## objects and classes"
   ]
  },
  {
   "cell_type": "markdown",
   "metadata": {},
   "source": [
    "### example 1\n",
    "\n",
    "<img src='../images/oop.png'>"
   ]
  },
  {
   "cell_type": "markdown",
   "metadata": {},
   "source": [
    "### example 2\n",
    "\n",
    "<img src='../images/class.gif'>"
   ]
  },
  {
   "cell_type": "markdown",
   "metadata": {},
   "source": [
    "### example 3\n",
    "\n",
    "<img src='../images/class2.png'>"
   ]
  },
  {
   "cell_type": "markdown",
   "metadata": {},
   "source": [
    "### How to define a class in python"
   ]
  },
  {
   "cell_type": "code",
   "execution_count": 27,
   "metadata": {},
   "outputs": [],
   "source": [
    "import datetime  # we will use this for date objects\n",
    "\n",
    "\n",
    "class Person:  # we are modelling a person in software\n",
    "\n",
    "    # any python class must contain __init__() function (object’s constructor) , to initialize attributes for objects\n",
    "    # what does self mean ? >>> in any class method self parameter means that this function is applied on the generated objec\n",
    "    \n",
    "    def __init__(self, input_name, input_surname, input_birthdate, input_address, input_telephone):\n",
    "        \n",
    "        # initialize person object attributes\n",
    "        self.name = input_name\n",
    "        self.surname = input_surname\n",
    "        self.birthdate = input_birthdate\n",
    "        self.address = input_address\n",
    "        self.telephone = input_telephone\n",
    "\n",
    "    def name_details(self):\n",
    "        # function to print first and second name\n",
    "        print(\"hello my name is {} {}\".format(self.name, self.surname))\n",
    "\n",
    "    def age(self):\n",
    "        # function to compute age\n",
    "        today = datetime.date.today()\n",
    "        age = today.year - self.birthdate.year\n",
    "        print(\"my age is\",age)\n",
    "\n",
    "    def phone_network(self):\n",
    "        # function to print your mobile sim card network\n",
    "        network = self.telephone[1:3]\n",
    "        if network == '11':\n",
    "            return 'Etisalat'\n",
    "        elif network == '12':\n",
    "            return 'Orange'\n",
    "        elif network == '10':\n",
    "            return 'Vodafone'\n",
    "        else:\n",
    "            return 'Un supported network'\n",
    "\n",
    "    def governorate(self):\n",
    "        # return user governorate , assume input will be \"gov,egypt\"\n",
    "        return self.address.split(',')[0]\n"
   ]
  },
  {
   "cell_type": "markdown",
   "metadata": {},
   "source": [
    "### how to call and use a class in python"
   ]
  },
  {
   "cell_type": "code",
   "execution_count": 33,
   "metadata": {},
   "outputs": [],
   "source": [
    "# create new person object\n",
    "me=Person(input_name='mohamed',\n",
    "          input_surname='mossad',\n",
    "          input_birthdate=datetime.date(1900,11,4),\n",
    "          input_telephone='0110148066',\n",
    "         input_address='aswan,egypt')"
   ]
  },
  {
   "cell_type": "code",
   "execution_count": 34,
   "metadata": {},
   "outputs": [
    {
     "name": "stdout",
     "output_type": "stream",
     "text": [
      "hello my name is mohamed mossad\n"
     ]
    }
   ],
   "source": [
    "# call object methods/functions\n",
    "me.name_details()"
   ]
  },
  {
   "cell_type": "code",
   "execution_count": 35,
   "metadata": {},
   "outputs": [
    {
     "name": "stdout",
     "output_type": "stream",
     "text": [
      "my age is 120\n"
     ]
    }
   ],
   "source": [
    "me.age()"
   ]
  },
  {
   "cell_type": "code",
   "execution_count": 36,
   "metadata": {},
   "outputs": [
    {
     "name": "stdout",
     "output_type": "stream",
     "text": [
      "my mobile network is  Etisalat\n"
     ]
    }
   ],
   "source": [
    "print(\"my mobile network is \",me.phone_network())"
   ]
  },
  {
   "cell_type": "code",
   "execution_count": 37,
   "metadata": {},
   "outputs": [
    {
     "name": "stdout",
     "output_type": "stream",
     "text": [
      "I live in  aswan\n"
     ]
    }
   ],
   "source": [
    "print(\"I live in \",me.governorate())"
   ]
  },
  {
   "cell_type": "code",
   "execution_count": 38,
   "metadata": {},
   "outputs": [
    {
     "name": "stdout",
     "output_type": "stream",
     "text": [
      "my mobile network is  Orange\n"
     ]
    }
   ],
   "source": [
    "# we can access and modify attributes\n",
    "me.telephone='01200148063'\n",
    "print(\"my mobile network is \",me.phone_network())"
   ]
  }
 ],
 "metadata": {
  "kernelspec": {
   "display_name": "Python 3",
   "language": "python",
   "name": "python3"
  },
  "language_info": {
   "codemirror_mode": {
    "name": "ipython",
    "version": 3
   },
   "file_extension": ".py",
   "mimetype": "text/x-python",
   "name": "python",
   "nbconvert_exporter": "python",
   "pygments_lexer": "ipython3",
   "version": "3.6.9"
  }
 },
 "nbformat": 4,
 "nbformat_minor": 2
}
